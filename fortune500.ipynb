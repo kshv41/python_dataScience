{
 "cells": [
  {
   "cell_type": "markdown",
   "metadata": {},
   "source": [
    "# Fortune 500 companies Data Analysis"
   ]
  },
  {
   "cell_type": "markdown",
   "metadata": {},
   "source": [
    "Here we're given a data of the Fortune 500 countries.\n",
    "Find the csv here - [fortune500](https://drive.google.com/file/d/1A75bwCnYL7mt87suUHdIHPycqhIMpYW9/view?usp=sharing)"
   ]
  },
  {
   "cell_type": "markdown",
   "metadata": {},
   "source": [
    "In this analysis we intend to understand the following :-\n",
    "    1. Find out the countries with most companies from a particular industry say Motor Vehicles and Parts.\n",
    "    2. The highest ranked companies from a particular country.\n",
    "    3. Fix issues with previous_rank column.\n",
    "    4. Find the city with most headquarters in any particular country say USA.\n",
    "    5. The average number of employees in a company from a particular country."
   ]
  },
  {
   "cell_type": "markdown",
   "metadata": {},
   "source": [
    "Importing the csv data file."
   ]
  },
  {
   "cell_type": "code",
   "execution_count": 19,
   "metadata": {},
   "outputs": [],
   "source": [
    "import numpy as np\n",
    "import pandas as pd\n",
    "f500 = pd.read_csv(\"f500.csv\", index_col=0)\n",
    "f500.index.name = None"
   ]
  },
  {
   "cell_type": "markdown",
   "metadata": {},
   "source": [
    "Now lets intend to find out the five most common countries for Motor Vehicles and Parts and industry."
   ]
  },
  {
   "cell_type": "markdown",
   "metadata": {},
   "source": [
    "Seperate out a column for Motor Vehicles and Parts companies with their countries -----> Use value_counts to list the top most occuring countries.  "
   ]
  },
  {
   "cell_type": "code",
   "execution_count": 20,
   "metadata": {},
   "outputs": [
    {
     "name": "stdout",
     "output_type": "stream",
     "text": [
      "Japan          10\n",
      "China           7\n",
      "Germany         6\n",
      "France          3\n",
      "South Korea     3\n",
      "Name: country, dtype: int64\n"
     ]
    }
   ],
   "source": [
    "countries_motor = f500.loc[f500['industry'] == 'Motor Vehicles and Parts', 'country']\n",
    "print(countries_motor.value_counts().head())"
   ]
  },
  {
   "cell_type": "markdown",
   "metadata": {},
   "source": [
    "Clearly most Fortune 500 Motor Vehicles and Parts companies are in Japan."
   ]
  },
  {
   "cell_type": "markdown",
   "metadata": {},
   "source": [
    "Now lets identify the highest ranked countries in India."
   ]
  },
  {
   "cell_type": "code",
   "execution_count": 21,
   "metadata": {},
   "outputs": [
    {
     "name": "stdout",
     "output_type": "stream",
     "text": [
      "Indian Oil             168\n",
      "Reliance Industries    203\n",
      "State Bank of India    217\n",
      "Tata Motors            247\n",
      "Rajesh Exports         295\n",
      "Name: rank, dtype: int64\n"
     ]
    }
   ],
   "source": [
    "top_india = f500.loc[f500['country'] == 'India' , 'rank']\n",
    "print(top_india.head())"
   ]
  },
  {
   "cell_type": "markdown",
   "metadata": {},
   "source": [
    "Way to go India!"
   ]
  },
  {
   "cell_type": "markdown",
   "metadata": {},
   "source": [
    "Now let's look deeper into the previous_rank column"
   ]
  },
  {
   "cell_type": "code",
   "execution_count": 22,
   "metadata": {},
   "outputs": [
    {
     "name": "stdout",
     "output_type": "stream",
     "text": [
      "0      33\n",
      "159     1\n",
      "147     1\n",
      "148     1\n",
      "149     1\n",
      "Name: previous_rank, dtype: int64\n"
     ]
    }
   ],
   "source": [
    "print(f500['previous_rank'].value_counts(dropna = False).head(5))"
   ]
  },
  {
   "cell_type": "markdown",
   "metadata": {},
   "source": [
    "We can cleary see. That there's something wrong with the data here. How can the previous rank of a country be 0?\n",
    "SO it can be inferred that the previous rank data for certain companies must have been missing and the data entry presonnel must have entered it as zero. \n",
    "\n",
    "Let's fix this and replace the previous rank zeros with NaN."
   ]
  },
  {
   "cell_type": "code",
   "execution_count": 23,
   "metadata": {},
   "outputs": [
    {
     "name": "stdout",
     "output_type": "stream",
     "text": [
      "NaN       33\n",
      " 471.0     1\n",
      " 234.0     1\n",
      " 125.0     1\n",
      " 166.0     1\n",
      "Name: previous_rank, dtype: int64\n"
     ]
    }
   ],
   "source": [
    "f500.loc[f500['previous_rank'] == 0 ,'previous_rank'] = np.nan\n",
    "print(f500['previous_rank'].value_counts(dropna = False).head(5))"
   ]
  },
  {
   "cell_type": "markdown",
   "metadata": {},
   "source": [
    "Now let's embark on the mission to find out the cities which headquarter the most number of companies in USA."
   ]
  },
  {
   "cell_type": "code",
   "execution_count": 27,
   "metadata": {},
   "outputs": [
    {
     "name": "stdout",
     "output_type": "stream",
     "text": [
      "New York, NY    15\n",
      "Houston, TX      5\n",
      "Atlanta, GA      4\n",
      "Name: hq_location, dtype: int64\n"
     ]
    }
   ],
   "source": [
    "hq_usaCity = f500.loc[f500.loc[:,'country']== 'USA','hq_location']\n",
    "print(hq_usaCity.value_counts().head(3))"
   ]
  },
  {
   "cell_type": "markdown",
   "metadata": {},
   "source": [
    "Killin it NYC!"
   ]
  },
  {
   "cell_type": "markdown",
   "metadata": {},
   "source": [
    "Now let's also find out the avg number of employees in f500 Japanese company."
   ]
  },
  {
   "cell_type": "code",
   "execution_count": 29,
   "metadata": {},
   "outputs": [
    {
     "name": "stdout",
     "output_type": "stream",
     "text": [
      "104564.45098039215\n"
     ]
    }
   ],
   "source": [
    "employeesJapan = f500.loc[f500.loc[: ,'country'] =='Japan' , 'employees']\n",
    "avgEmployees = employeesJapan.mean() \n",
    "print(avgEmployees)"
   ]
  }
 ],
 "metadata": {
  "kernelspec": {
   "display_name": "Python 3",
   "language": "python",
   "name": "python3"
  },
  "language_info": {
   "codemirror_mode": {
    "name": "ipython",
    "version": 3
   },
   "file_extension": ".py",
   "mimetype": "text/x-python",
   "name": "python",
   "nbconvert_exporter": "python",
   "pygments_lexer": "ipython3",
   "version": "3.7.1"
  }
 },
 "nbformat": 4,
 "nbformat_minor": 2
}
