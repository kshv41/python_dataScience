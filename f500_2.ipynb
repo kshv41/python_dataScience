{
 "cells": [
  {
   "cell_type": "markdown",
   "metadata": {},
   "source": [
    "# Fortune 500 data analysis -2"
   ]
  },
  {
   "cell_type": "markdown",
   "metadata": {},
   "source": [
    "Let's perform another advanced analysis of fortune 500 data . It can be found here [fortune500]( https://drive.google.com/file/d/17LWD9zCPGme69BiOkOIbsNzmYkZcnWLk/view?usp=sharing)"
   ]
  },
  {
   "cell_type": "markdown",
   "metadata": {},
   "source": [
    "We intend to perform the following tasks:-\n",
    "  \n",
    "  1.Top companies with most employees \n",
    "  2.Analyse the change in ranks of companies\n",
    "  3.Finding the countries adhering to two constraints.\n",
    "  4.Finding the company with most employees in a particular country. "
   ]
  },
  {
   "cell_type": "code",
   "execution_count": 4,
   "metadata": {},
   "outputs": [],
   "source": [
    "import numpy as np\n",
    "import pandas as pd"
   ]
  },
  {
   "cell_type": "code",
   "execution_count": 5,
   "metadata": {},
   "outputs": [],
   "source": [
    "f500 = pd.read_csv(\"f500.csv\")"
   ]
  },
  {
   "cell_type": "code",
   "execution_count": 6,
   "metadata": {},
   "outputs": [],
   "source": [
    "f500.loc[f500[\"previous_rank\"] == 0, \"previous_rank\"] = np.nan #Substituting the previous_rank = 0 with nan"
   ]
  },
  {
   "cell_type": "markdown",
   "metadata": {},
   "source": [
    "**Let's try to obtain the top five companies with most employees**"
   ]
  },
  {
   "cell_type": "code",
   "execution_count": 15,
   "metadata": {},
   "outputs": [
    {
     "name": "stdout",
     "output_type": "stream",
     "text": [
      "                        company  employees\n",
      "0                       Walmart    2300000\n",
      "3      China National Petroleum    1512048\n",
      "118            China Post Group     941211\n",
      "1                    State Grid     926067\n",
      "26   Hon Hai Precision Industry     726772\n"
     ]
    }
   ],
   "source": [
    "sorted_emp = f500.sort_values(\"employees\", ascending=False)\n",
    "top5_emp = sorted_emp.head()\n",
    "print(top5_emp.iloc[: , [0,15]])"
   ]
  },
  {
   "cell_type": "markdown",
   "metadata": {},
   "source": [
    "**Now we'll analyse the change in ranks of companies**"
   ]
  },
  {
   "cell_type": "markdown",
   "metadata": {},
   "source": [
    "Let's commence this by selecting only the previous rank values which are not null."
   ]
  },
  {
   "cell_type": "code",
   "execution_count": 21,
   "metadata": {},
   "outputs": [
    {
     "name": "stdout",
     "output_type": "stream",
     "text": [
      "3                          China National Petroleum\n",
      "6                                 Royal Dutch Shell\n",
      "9                                       Exxon Mobil\n",
      "11                                               BP\n",
      "14                              Samsung Electronics\n",
      "15                                         Glencore\n",
      "16                                          Daimler\n",
      "19                                       EXOR Group\n",
      "21            Industrial & Commercial Bank of China\n",
      "26                       Hon Hai Precision Industry\n",
      "27                          China Construction Bank\n",
      "29                                            Total\n",
      "30                                 General Electric\n",
      "31                                          Verizon\n",
      "37                       Agricultural Bank of China\n",
      "41                                    Bank of China\n",
      "42                                      BNP Paribas\n",
      "44                                          Chevron\n",
      "45                                       Fannie Mae\n",
      "46                      China Mobile Communications\n",
      "51                                        BMW Group\n",
      "52                          Express Scripts Holding\n",
      "56                           Assicurazioni Generali\n",
      "62                                          Gazprom\n",
      "68                                        Microsoft\n",
      "73                                        Citigroup\n",
      "74                                        Petrobras\n",
      "79                                  Credit Agricole\n",
      "81                            Electricite de France\n",
      "83                                             Enel\n",
      "                           ...                     \n",
      "447                        Shanxi LuAn Mining Group\n",
      "450                            Chubu Electric Power\n",
      "451                                     BAE Systems\n",
      "452                                        Andeavor\n",
      "453                                    China Datang\n",
      "454                                            Flex\n",
      "455                               Arrow Electronics\n",
      "457                              Compal Electronics\n",
      "459                                        Qualcomm\n",
      "462                                     Koc Holding\n",
      "464                                     Duke Energy\n",
      "465                                        Michelin\n",
      "467                                Heineken Holding\n",
      "468                    Enterprise Products Partners\n",
      "469                                     AstraZeneca\n",
      "471                                  Rabobank Group\n",
      "474                                US Foods Holding\n",
      "475    Shanxi Jincheng Anthracite Coal Mining Group\n",
      "478                                      LG Display\n",
      "479                                  Emirates Group\n",
      "483                                          Sodexo\n",
      "485                                       GS Caltex\n",
      "486                               Ultrapar Holdings\n",
      "488                                  Sears Holdings\n",
      "489                        China General Technology\n",
      "490                                   National Grid\n",
      "492                                  Telecom Italia\n",
      "496                        New China Life Insurance\n",
      "497                       Wm. Morrison Supermarkets\n",
      "498                                             TUI\n",
      "Name: company, Length: 259, dtype: object\n"
     ]
    }
   ],
   "source": [
    "previousRanks_filled = f500[f500['previous_rank'].notnull()]\n",
    "rank_change = previousRanks_filled[\"rank\"] -previousRanks_filled[\"previous_rank\"] \n",
    "improved_rank = previousRanks_filled.loc[rank_change > 0 ,'company'] \n",
    "print(improved_rank)"
   ]
  },
  {
   "cell_type": "markdown",
   "metadata": {},
   "source": [
    "**We want to find the companies in f500_with more than 265 billion in revenue that are headquarted in China**"
   ]
  },
  {
   "cell_type": "code",
   "execution_count": 24,
   "metadata": {},
   "outputs": [],
   "source": [
    "cols = ['company','revenues','country']\n",
    "f500_sel = f500[cols]"
   ]
  },
  {
   "cell_type": "code",
   "execution_count": 26,
   "metadata": {},
   "outputs": [
    {
     "name": "stdout",
     "output_type": "stream",
     "text": [
      "         company  revenues country\n",
      "1     State Grid    315199   China\n",
      "2  Sinopec Group    267518   China\n"
     ]
    }
   ],
   "source": [
    "chinaOver265b = f500_sel.loc[(f500['revenues'] >265000) & (f500['country'] =='China') ,:]\n",
    "print((chinaOver265b).head())"
   ]
  },
  {
   "cell_type": "markdown",
   "metadata": {},
   "source": [
    "**Now let's try to find out the top employers from all countries.**"
   ]
  },
  {
   "cell_type": "code",
   "execution_count": 41,
   "metadata": {},
   "outputs": [
    {
     "name": "stdout",
     "output_type": "stream",
     "text": [
      "{'USA': 'Walmart', 'China': 'China National Petroleum', 'Japan': 'Toyota Motor', 'Germany': 'Volkswagen', 'Netherlands': 'EXOR Group', 'Britain': 'Compass Group', 'South Korea': 'Samsung Electronics', 'Switzerland': 'Nestle', 'France': 'Sodexo', 'Taiwan': 'Hon Hai Precision Industry', 'Singapore': 'Flex', 'Italy': 'Poste Italiane', 'Russia': 'Gazprom', 'Spain': 'Banco Santander', 'Brazil': 'JBS', 'Mexico': 'America Movil', 'Luxembourg': 'ArcelorMittal', 'India': 'State Bank of India', 'Malaysia': 'Petronas', 'Thailand': 'PTT', 'Australia': 'Wesfarmers', 'Belgium': 'Anheuser-Busch InBev', 'Norway': 'Statoil', 'Canada': 'George Weston', 'Ireland': 'Accenture', 'Indonesia': 'Pertamina', 'Denmark': 'Maersk Group', 'Saudi Arabia': 'SABIC', 'Sweden': 'H & M Hennes & Mauritz', 'Finland': 'Nokia', 'Venezuela': 'Mercantil Servicios Financieros', 'Turkey': 'Koc Holding', 'U.A.E': 'Emirates Group', 'Israel': 'Teva Pharmaceutical Industries'}\n"
     ]
    }
   ],
   "source": [
    "topEmployers = {}\n",
    "countries = f500['country'].unique()\n",
    "for c in countries:\n",
    "    if c not in topEmployers:\n",
    "        companyEmployees = f500.loc[f500['country']== c,['company','employees']]\n",
    "        sorted_ce = companyEmployees.sort_values(\"employees\", ascending=False)\n",
    "        topEmployers[c] = sorted_ce.iloc[0,0]\n",
    "print(topEmployers)\n"
   ]
  },
  {
   "cell_type": "code",
   "execution_count": null,
   "metadata": {},
   "outputs": [],
   "source": []
  }
 ],
 "metadata": {
  "kernelspec": {
   "display_name": "Python 3",
   "language": "python",
   "name": "python3"
  },
  "language_info": {
   "codemirror_mode": {
    "name": "ipython",
    "version": 3
   },
   "file_extension": ".py",
   "mimetype": "text/x-python",
   "name": "python",
   "nbconvert_exporter": "python",
   "pygments_lexer": "ipython3",
   "version": "3.7.1"
  }
 },
 "nbformat": 4,
 "nbformat_minor": 2
}
