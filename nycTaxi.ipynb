{
 "cells": [
  {
   "cell_type": "markdown",
   "metadata": {},
   "source": [
    "## NYC Taxi data"
   ]
  },
  {
   "cell_type": "markdown",
   "metadata": {},
   "source": [
    "The city releases data on taxis and for-hire vehicles on the Taxi and Limousine Commission (TLC) Website. There is data on over 1.3 trillion individual trips, reaching back as far as 2009 and is regularly updated."
   ]
  },
  {
   "cell_type": "markdown",
   "metadata": {},
   "source": [
    "We'll be working with a subset of this data: Yellow taxi trips to and from New York City airports between January and June 2016."
   ]
  },
  {
   "cell_type": "markdown",
   "metadata": {},
   "source": [
    "We have randomly sampled approximately 90,000 trips for our analysis, representing one 50th of the trips for the six month period."
   ]
  },
  {
   "cell_type": "markdown",
   "metadata": {},
   "source": [
    "Find the csv data here - [nycTaxis](https://drive.google.com/file/d/17LWD9zCPGme69BiOkOIbsNzmYkZcnWLk/view?usp=sharing)"
   ]
  },
  {
   "cell_type": "markdown",
   "metadata": {},
   "source": [
    "In this exercise we intend to achieve the following:-\n",
    "    1. Sort the data according to the speeds in ascending order.\n",
    "    2. Find out the number of rides in a particuar month say January.\n",
    "    3. Find out the most preffered drop airport.\n",
    "    4. Clean the data from the rows with speed more than 100 mph.\n",
    "    5. Calculate the mean speed- distance- time - charge of the cleaned data \n",
    "    "
   ]
  },
  {
   "cell_type": "markdown",
   "metadata": {},
   "source": [
    "To start working with this CSV data in NumPy, we'll first need to start by importing the NumPy library into our Python environment. For this, we use a simple import statement:"
   ]
  },
  {
   "cell_type": "markdown",
   "metadata": {},
   "source": [
    "list of lists(string) ----> list of lists(float) -----> numpy ndarray"
   ]
  },
  {
   "cell_type": "code",
   "execution_count": 30,
   "metadata": {},
   "outputs": [],
   "source": [
    "opened_file = open('nyc_taxis.csv')\n",
    "from csv import reader\n",
    "read_file = reader(opened_file)\n",
    "taxi_list = list(read_file)\n",
    "taxi_list = taxi_list[1:] # Excluding the column names\n",
    "\n",
    "import numpy as np \n",
    "\n",
    "converted_taxi_list = []\n",
    "for row in taxi_list:\n",
    "    converted_row = []\n",
    "    for item in row:\n",
    "        converted_row.append(float(item))  \n",
    "               \n",
    "    converted_taxi_list.append(converted_row)\n",
    "    #converted_taxi_list = float(taxi_list)\n",
    "\n",
    "taxi = np.array(converted_taxi_list)\n",
    "    #taxi is an ndarray (n dimensional array) now."
   ]
  },
  {
   "cell_type": "markdown",
   "metadata": {},
   "source": [
    "Let's also add average speed column."
   ]
  },
  {
   "cell_type": "code",
   "execution_count": 31,
   "metadata": {},
   "outputs": [],
   "source": [
    "trip_distance_miles = taxi[:,7]\n",
    "trip_length_seconds = taxi[:,8]\n",
    "\n",
    "trip_length_hours = trip_length_seconds / 3600 # 3600 seconds is one hour\n",
    "trip_mph = trip_distance_miles / trip_length_hours #trip_mph is an Ndarray although not an element of taxi now."
   ]
  },
  {
   "cell_type": "code",
   "execution_count": 32,
   "metadata": {},
   "outputs": [
    {
     "name": "stdout",
     "output_type": "stream",
     "text": [
      "(89560,)\n",
      "(89560, 1)\n"
     ]
    }
   ],
   "source": [
    "print(trip_mph.shape) #-----> (89560,)\n",
    "\n",
    "trip_mph_2d = np.expand_dims(trip_mph ,axis = 1)\n",
    "\n",
    "print(trip_mph_2d.shape) #--------> (89560 ,1)\n",
    "\n",
    "taxi = np.concatenate([taxi , trip_mph_2d],axis = 1) #Now the avg speed column (trip_mph_2d) is part of taxis.\n",
    "\n"
   ]
  },
  {
   "cell_type": "markdown",
   "metadata": {},
   "source": [
    "Let's sort the taxi data according to the newly added speed column. "
   ]
  },
  {
   "cell_type": "code",
   "execution_count": 33,
   "metadata": {},
   "outputs": [],
   "source": [
    "to_sort = taxi[:,15]\n",
    "sorted_indices = np.argsort(to_sort)\n",
    "taxi_sorted = taxi[sorted_indices]\n",
    "\n"
   ]
  },
  {
   "cell_type": "markdown",
   "metadata": {},
   "source": [
    "Now let's evaluate the number of trips in a particular month. Say January."
   ]
  },
  {
   "cell_type": "code",
   "execution_count": 34,
   "metadata": {},
   "outputs": [
    {
     "name": "stdout",
     "output_type": "stream",
     "text": [
      "13481\n"
     ]
    }
   ],
   "source": [
    "pickup_month = taxi[: ,1]\n",
    "january_bool = pickup_month == 1\n",
    "january = pickup_month[january_bool]\n",
    "january_rides = january.shape[0]\n",
    "print(january_rides)"
   ]
  },
  {
   "cell_type": "markdown",
   "metadata": {},
   "source": [
    "Now, we'll try to predict which Airport is the most poplular Drop off choice."
   ]
  },
  {
   "cell_type": "code",
   "execution_count": 35,
   "metadata": {},
   "outputs": [
    {
     "name": "stdout",
     "output_type": "stream",
     "text": [
      "11832\n",
      "16602\n",
      "63\n"
     ]
    }
   ],
   "source": [
    "drop_airport = taxi[: , 6]\n",
    "jfk =  taxi[drop_airport == 2 ,6]\n",
    "jfk_count = jfk.shape[0]\n",
    "\n",
    "laguardia =  taxi[drop_airport == 3 ,6]\n",
    "laguardia_count = laguardia.shape[0]\n",
    "\n",
    "newark =  taxi[drop_airport == 5 ,6]\n",
    "newark_count = newark.shape[0]\n",
    "print(jfk_count)\n",
    "print(laguardia_count)\n",
    "print(newark_count)"
   ]
  },
  {
   "cell_type": "markdown",
   "metadata": {},
   "source": [
    "Clearly Laguardia is the favourite drop location."
   ]
  },
  {
   "cell_type": "markdown",
   "metadata": {},
   "source": [
    "## Cleaning the data from the speeds greater than 100 mph"
   ]
  },
  {
   "cell_type": "code",
   "execution_count": 36,
   "metadata": {},
   "outputs": [
    {
     "name": "stdout",
     "output_type": "stream",
     "text": [
      "12.666396599932893\n",
      "2239.503657309026\n",
      "48.98131853260262\n",
      "23.353238774840836\n"
     ]
    }
   ],
   "source": [
    "speed = taxi[: ,15]\n",
    "cleaned_taxi = taxi[speed <100]\n",
    "mean_distance = cleaned_taxi[: ,7].mean()\n",
    "mean_length = cleaned_taxi[: ,8].mean()\n",
    "mean_total_amount = cleaned_taxi[: ,13].mean()\n",
    "mean_mph = cleaned_taxi[:,15].mean()\n",
    "print(mean_distance)\n",
    "print(mean_length)\n",
    "print(mean_total_amount)\n",
    "print(mean_mph)"
   ]
  }
 ],
 "metadata": {
  "kernelspec": {
   "display_name": "Python 3",
   "language": "python",
   "name": "python3"
  },
  "language_info": {
   "codemirror_mode": {
    "name": "ipython",
    "version": 3
   },
   "file_extension": ".py",
   "mimetype": "text/x-python",
   "name": "python",
   "nbconvert_exporter": "python",
   "pygments_lexer": "ipython3",
   "version": "3.7.1"
  }
 },
 "nbformat": 4,
 "nbformat_minor": 2
}
