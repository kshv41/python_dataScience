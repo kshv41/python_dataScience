{
 "cells": [
  {
   "cell_type": "markdown",
   "metadata": {},
   "source": [
    "# Laptops data analysis"
   ]
  },
  {
   "cell_type": "markdown",
   "metadata": {},
   "source": [
    "We're given a data on laptops- comprising of data on model number- manufacturer company- RAM- screen size etc."
   ]
  },
  {
   "cell_type": "markdown",
   "metadata": {},
   "source": [
    "The primary idea is to clean the data.\n",
    "We'll perform the follwoing tasks:-\n",
    "    1. Cleaning the Column heads of the unnecessary spaces and characters.\n",
    "    2. Convert data stored in certain numerical columns as string-object to int or float.\n",
    "    3. Splitting columns to new columns with specific information.\n",
    "    4. Treating columns with null values."
   ]
  },
  {
   "cell_type": "markdown",
   "metadata": {},
   "source": [
    "The data can be found here [laptops](https://drive.google.com/file/d/1iF9ZFMUIVRqgjbB368aLzDneaNk7V3GM/view?usp=sharing)"
   ]
  },
  {
   "cell_type": "code",
   "execution_count": 2,
   "metadata": {},
   "outputs": [],
   "source": [
    "import pandas as pd"
   ]
  },
  {
   "cell_type": "code",
   "execution_count": 3,
   "metadata": {},
   "outputs": [
    {
     "name": "stdout",
     "output_type": "stream",
     "text": [
      "<class 'pandas.core.frame.DataFrame'>\n",
      "RangeIndex: 1303 entries, 0 to 1302\n",
      "Data columns (total 13 columns):\n",
      "Manufacturer                1303 non-null object\n",
      "Model Name                  1303 non-null object\n",
      "Category                    1303 non-null object\n",
      "Screen Size                 1303 non-null object\n",
      "Screen                      1303 non-null object\n",
      "CPU                         1303 non-null object\n",
      "RAM                         1303 non-null object\n",
      " Storage                    1303 non-null object\n",
      "GPU                         1303 non-null object\n",
      "Operating System            1303 non-null object\n",
      "Operating System Version    1133 non-null object\n",
      "Weight                      1303 non-null object\n",
      "Price (Euros)               1303 non-null object\n",
      "dtypes: object(13)\n",
      "memory usage: 132.4+ KB\n"
     ]
    }
   ],
   "source": [
    "laptops = pd.read_csv('laptops.csv',encoding = 'Latin-1')\n",
    "laptops.info()"
   ]
  },
  {
   "cell_type": "markdown",
   "metadata": {},
   "source": [
    "Starting with cleaning the Column heads of the unnecessary spaces and characters."
   ]
  },
  {
   "cell_type": "code",
   "execution_count": 4,
   "metadata": {},
   "outputs": [],
   "source": [
    "def refine(string):\n",
    "    string = string.strip()\n",
    "    string = string.replace('Operating System' ,'os')\n",
    "    string = string.replace(' ' ,'_')\n",
    "    string = string.replace('(' , '')\n",
    "    string = string.replace(')' , '')\n",
    "    string = string.lower()\n",
    "    return string\n",
    "    \n",
    "new_columns = []\n",
    "for c in laptops.columns:\n",
    "    clean_c = refine(c)\n",
    "    new_columns.append(clean_c)\n",
    "    \n",
    "laptops.columns = new_columns"
   ]
  },
  {
   "cell_type": "markdown",
   "metadata": {},
   "source": [
    "We can understand from the df.info analysis that columns like RAM and Screen size are purely numerical categories but are still listed as object- string. So to enable numerical computations on these columns , they must be converted to numerical data type float or integer."
   ]
  },
  {
   "cell_type": "code",
   "execution_count": 5,
   "metadata": {},
   "outputs": [],
   "source": [
    "laptops[\"screen_size\"] = laptops[\"screen_size\"].str.replace('\"','').astype(float)\n",
    "laptops.rename({\"screen_size\": \"screen_size_inches\"}, axis=1, inplace=True)\n",
    "\n",
    "laptops['ram'] = laptops['ram'].str.replace('GB','')\n",
    "laptops['ram'] = laptops['ram'].astype(int)\n",
    "laptops.rename({'ram' : 'ram_gb'} , axis =1 , inplace=True)\n",
    "dtypes = laptops.dtypes"
   ]
  },
  {
   "cell_type": "code",
   "execution_count": 6,
   "metadata": {},
   "outputs": [
    {
     "name": "stdout",
     "output_type": "stream",
     "text": [
      "<class 'pandas.core.frame.DataFrame'>\n",
      "RangeIndex: 1303 entries, 0 to 1302\n",
      "Data columns (total 13 columns):\n",
      "manufacturer          1303 non-null object\n",
      "model_name            1303 non-null object\n",
      "category              1303 non-null object\n",
      "screen_size_inches    1303 non-null float64\n",
      "screen                1303 non-null object\n",
      "cpu                   1303 non-null object\n",
      "ram_gb                1303 non-null int64\n",
      "storage               1303 non-null object\n",
      "gpu                   1303 non-null object\n",
      "os                    1303 non-null object\n",
      "os_version            1133 non-null object\n",
      "weight                1303 non-null object\n",
      "price_euros           1303 non-null object\n",
      "dtypes: float64(1), int64(1), object(11)\n",
      "memory usage: 132.4+ KB\n"
     ]
    }
   ],
   "source": [
    "laptops.info()"
   ]
  },
  {
   "cell_type": "markdown",
   "metadata": {},
   "source": [
    "Cleaning the Weight and Price_euros columns."
   ]
  },
  {
   "cell_type": "code",
   "execution_count": 7,
   "metadata": {},
   "outputs": [
    {
     "name": "stdout",
     "output_type": "stream",
     "text": [
      "count    1303.000000\n",
      "mean     1123.686992\n",
      "std       699.009043\n",
      "min       174.000000\n",
      "25%       599.000000\n",
      "50%       977.000000\n",
      "75%      1487.880000\n",
      "max      6099.000000\n",
      "Name: price_euros, dtype: float64\n",
      "count    1303.000000\n",
      "mean        2.038734\n",
      "std         0.665475\n",
      "min         0.690000\n",
      "25%         1.500000\n",
      "50%         2.040000\n",
      "75%         2.300000\n",
      "max         4.700000\n",
      "Name: weight_kg, dtype: float64\n"
     ]
    }
   ],
   "source": [
    "laptops['weight'] = laptops['weight'].str.replace('kg' ,'')\n",
    "laptops['weight'] = laptops['weight'].str.replace('s' ,'')\n",
    "laptops['weight'] =laptops['weight'].astype(float)\n",
    "laptops.rename({'weight' : 'weight_kg'} , axis =1 , inplace=True)\n",
    "weight_describe = laptops['weight_kg'].describe()\n",
    "\n",
    "laptops['price_euros'] = laptops['price_euros'].str.replace(',', '.')\n",
    "laptops['price_euros'] = laptops['price_euros'].astype(float)\n",
    "\n",
    "price_describe = laptops['price_euros'].describe()\n",
    "print(price_describe)\n",
    "print(weight_describe)"
   ]
  },
  {
   "cell_type": "markdown",
   "metadata": {},
   "source": [
    "Now we intend to find out the top cpu manufactures. We'll do this by splitting the GPU to extract only the company name and place it in a new column and use value_counts to make our predictions."
   ]
  },
  {
   "cell_type": "code",
   "execution_count": 8,
   "metadata": {},
   "outputs": [
    {
     "name": "stdout",
     "output_type": "stream",
     "text": [
      "Intel      1240\n",
      "AMD          62\n",
      "Samsung       1\n",
      "Name: cpu_manufacturer, dtype: int64\n"
     ]
    }
   ],
   "source": [
    "laptops[\"gpu_manufacturer\"] = (laptops[\"gpu\"]\n",
    "                                    .str.split(n=1,expand=True)\n",
    "                                    .iloc[:,0]\n",
    "                               )\n",
    "\n",
    "laptops['cpu_manufacturer'] = laptops['cpu'].str.split(n =1 , expand=True).iloc[:,0]\n",
    "print(laptops['cpu_manufacturer'].value_counts())"
   ]
  },
  {
   "cell_type": "markdown",
   "metadata": {},
   "source": [
    "Intel all the way!"
   ]
  },
  {
   "cell_type": "markdown",
   "metadata": {},
   "source": [
    "Now i intend to extract the screen resolution from 'screen' column form a seperate column and speed of the laptop(in Ghz) from the cpu column. "
   ]
  },
  {
   "cell_type": "code",
   "execution_count": 9,
   "metadata": {},
   "outputs": [],
   "source": [
    "screen_res = laptops[\"screen\"].str.rsplit(n=1, expand=True)\n",
    "screen_res.columns = [\"A\", \"B\"]\n",
    "screen_res.loc[screen_res[\"B\"].isnull(), \"B\"] = screen_res[\"A\"]\n",
    "laptops[\"screen_resolution\"] = screen_res[\"B\"]\n",
    "\n",
    "\n",
    "laptops['cpu_speed_ghz'] = laptops['cpu'].str.replace('GHz','')\n",
    "cpu_speed = laptops['cpu_speed_ghz'].str.rsplit(n=1 ,expand= True)\n",
    "cpu_speed.columns = ['C','D' ]\n",
    "laptops[\"cpu_speed_ghz\"] = cpu_speed['D']\n",
    "laptops['cpu_speed_ghz'] =laptops['cpu_speed_ghz'].astype(float)\n",
    "\n",
    "                     "
   ]
  },
  {
   "cell_type": "code",
   "execution_count": 10,
   "metadata": {},
   "outputs": [
    {
     "name": "stdout",
     "output_type": "stream",
     "text": [
      "<class 'pandas.core.frame.DataFrame'>\n",
      "RangeIndex: 1303 entries, 0 to 1302\n",
      "Data columns (total 17 columns):\n",
      "manufacturer          1303 non-null object\n",
      "model_name            1303 non-null object\n",
      "category              1303 non-null object\n",
      "screen_size_inches    1303 non-null float64\n",
      "screen                1303 non-null object\n",
      "cpu                   1303 non-null object\n",
      "ram_gb                1303 non-null int64\n",
      "storage               1303 non-null object\n",
      "gpu                   1303 non-null object\n",
      "os                    1303 non-null object\n",
      "os_version            1133 non-null object\n",
      "weight_kg             1303 non-null float64\n",
      "price_euros           1303 non-null float64\n",
      "gpu_manufacturer      1303 non-null object\n",
      "cpu_manufacturer      1303 non-null object\n",
      "screen_resolution     1303 non-null object\n",
      "cpu_speed_ghz         1303 non-null float64\n",
      "dtypes: float64(4), int64(1), object(12)\n",
      "memory usage: 173.1+ KB\n"
     ]
    }
   ],
   "source": [
    "laptops.info()"
   ]
  },
  {
   "cell_type": "markdown",
   "metadata": {},
   "source": [
    "Examining the 'os' column"
   ]
  },
  {
   "cell_type": "code",
   "execution_count": 11,
   "metadata": {},
   "outputs": [
    {
     "name": "stdout",
     "output_type": "stream",
     "text": [
      "Windows      1125\n",
      "No OS          66\n",
      "Linux          62\n",
      "Chrome OS      27\n",
      "macOS          13\n",
      "Mac OS          8\n",
      "Android         2\n",
      "Name: os, dtype: int64\n"
     ]
    }
   ],
   "source": [
    "print(laptops[\"os\"].value_counts())"
   ]
  },
  {
   "cell_type": "markdown",
   "metadata": {},
   "source": [
    "Mac OS and macOS correspond to the same operating system but are listed differently. Let's deal this by creating a dictionary of the OS to the right coulumn names."
   ]
  },
  {
   "cell_type": "code",
   "execution_count": 12,
   "metadata": {},
   "outputs": [],
   "source": [
    "mapping_dict = {\n",
    "    'Android': 'Android',\n",
    "    'Chrome OS': 'Chrome OS',\n",
    "    'Linux': 'Linux',\n",
    "    'Mac OS': 'macOS',\n",
    "    'No OS': 'No OS',\n",
    "    'Windows': 'Windows',\n",
    "    'macOS': 'macOS'\n",
    "}\n",
    "\n",
    "laptops['os'] = laptops['os'].map(mapping_dict)"
   ]
  },
  {
   "cell_type": "code",
   "execution_count": 13,
   "metadata": {},
   "outputs": [
    {
     "name": "stdout",
     "output_type": "stream",
     "text": [
      "0         macOS\n",
      "1         macOS\n",
      "2         No OS\n",
      "3         macOS\n",
      "4         macOS\n",
      "5       Windows\n",
      "6         macOS\n",
      "7         macOS\n",
      "8       Windows\n",
      "9       Windows\n",
      "10        No OS\n",
      "11        No OS\n",
      "12        macOS\n",
      "13      Windows\n",
      "14        macOS\n",
      "15        macOS\n",
      "16      Windows\n",
      "17        macOS\n",
      "18        No OS\n",
      "19      Windows\n",
      "20      Windows\n",
      "21      Windows\n",
      "22        No OS\n",
      "23      Windows\n",
      "24      Windows\n",
      "25      Windows\n",
      "26        macOS\n",
      "27      Windows\n",
      "28      Windows\n",
      "29      Windows\n",
      "         ...   \n",
      "1273    Windows\n",
      "1274    Windows\n",
      "1275    Windows\n",
      "1276    Windows\n",
      "1277      Linux\n",
      "1278    Windows\n",
      "1279    Windows\n",
      "1280    Windows\n",
      "1281      Linux\n",
      "1282    Windows\n",
      "1283    Windows\n",
      "1284    Windows\n",
      "1285    Windows\n",
      "1286    Windows\n",
      "1287    Windows\n",
      "1288    Windows\n",
      "1289    Windows\n",
      "1290    Windows\n",
      "1291      Linux\n",
      "1292    Windows\n",
      "1293    Windows\n",
      "1294    Windows\n",
      "1295      Linux\n",
      "1296    Windows\n",
      "1297    Windows\n",
      "1298    Windows\n",
      "1299    Windows\n",
      "1300    Windows\n",
      "1301    Windows\n",
      "1302    Windows\n",
      "Name: os, Length: 1303, dtype: object\n"
     ]
    }
   ],
   "source": [
    "print(laptops['os'])"
   ]
  },
  {
   "cell_type": "markdown",
   "metadata": {},
   "source": [
    "Now we'll examine if any rows have null values."
   ]
  },
  {
   "cell_type": "code",
   "execution_count": 14,
   "metadata": {},
   "outputs": [
    {
     "name": "stdout",
     "output_type": "stream",
     "text": [
      "manufacturer            0\n",
      "model_name              0\n",
      "category                0\n",
      "screen_size_inches      0\n",
      "screen                  0\n",
      "cpu                     0\n",
      "ram_gb                  0\n",
      "storage                 0\n",
      "gpu                     0\n",
      "os                      0\n",
      "os_version            170\n",
      "weight_kg               0\n",
      "price_euros             0\n",
      "gpu_manufacturer        0\n",
      "cpu_manufacturer        0\n",
      "screen_resolution       0\n",
      "cpu_speed_ghz           0\n",
      "dtype: int64\n"
     ]
    }
   ],
   "source": [
    "print(laptops.isnull().sum())"
   ]
  },
  {
   "cell_type": "markdown",
   "metadata": {},
   "source": [
    "We can infer that the most null values occur in the column os_version."
   ]
  },
  {
   "cell_type": "markdown",
   "metadata": {},
   "source": [
    "Let's explore this column in depth."
   ]
  },
  {
   "cell_type": "code",
   "execution_count": 15,
   "metadata": {},
   "outputs": [
    {
     "name": "stdout",
     "output_type": "stream",
     "text": [
      "10      1072\n",
      "NaN      170\n",
      "7         45\n",
      "10 S       8\n",
      "X          8\n",
      "Name: os_version, dtype: int64\n"
     ]
    }
   ],
   "source": [
    "print(laptops[\"os_version\"].value_counts(dropna=False))"
   ]
  },
  {
   "cell_type": "markdown",
   "metadata": {},
   "source": [
    "We can also explore values of the other columns in the rows with null values. In this case, the os_version column is closely related to the os column, so we'll look at those values:"
   ]
  },
  {
   "cell_type": "code",
   "execution_count": 16,
   "metadata": {},
   "outputs": [
    {
     "name": "stdout",
     "output_type": "stream",
     "text": [
      "No OS        66\n",
      "Linux        62\n",
      "Chrome OS    27\n",
      "macOS        13\n",
      "Android       2\n",
      "Name: os, dtype: int64\n"
     ]
    }
   ],
   "source": [
    "os_with_null_v = laptops.loc[laptops[\"os_version\"].isnull(),\"os\"]\n",
    "print(os_with_null_v.value_counts())"
   ]
  },
  {
   "cell_type": "markdown",
   "metadata": {},
   "source": [
    "We can make the following infrences :-\n",
    "    -Most of the missing values are actually when the laptop doesn't include any OS. This is an important     distinction, because it's not so much that we don't know what the value is, as that there can't be a value.\n",
    "    -13 of the laptops that come with macOS do not specify the version. Leaning on our knowledge of MacOS, we might know that the full name of macOS used to be Mac OS X, and so we might to fill these values to be more consistent.\n"
   ]
  },
  {
   "cell_type": "code",
   "execution_count": 17,
   "metadata": {},
   "outputs": [
    {
     "name": "stdout",
     "output_type": "stream",
     "text": [
      "NaN    13\n",
      "X       8\n",
      "Name: os_version, dtype: int64\n"
     ]
    }
   ],
   "source": [
    "mac_os_versions = laptops.loc[laptops[\"os\"] == \"macOS\", \"os_version\"]\n",
    "print(mac_os_versions.value_counts(dropna=False))"
   ]
  },
  {
   "cell_type": "markdown",
   "metadata": {},
   "source": [
    "Clearly the version for OS macOS is X. So NaN can be replaced with X."
   ]
  },
  {
   "cell_type": "code",
   "execution_count": 18,
   "metadata": {},
   "outputs": [],
   "source": [
    "laptops.loc[laptops[\"os\"] == \"macOS\", \"os_version\"] = \"X\""
   ]
  },
  {
   "cell_type": "markdown",
   "metadata": {},
   "source": [
    "Also the rows with No OS in OS column can be replaced with Version Unknown instead of null."
   ]
  },
  {
   "cell_type": "code",
   "execution_count": 20,
   "metadata": {},
   "outputs": [
    {
     "name": "stdout",
     "output_type": "stream",
     "text": [
      "Linux        62\n",
      "Chrome OS    27\n",
      "Android       2\n",
      "Name: os, dtype: int64\n"
     ]
    }
   ],
   "source": [
    "laptops.loc[ laptops['os'] == 'No OS' ,'os_version'] = 'Version Unknown'\n",
    "value_counts_after = laptops.loc[laptops[\"os_version\"].isnull(), \"os\"].value_counts()\n",
    "print(value_counts_after)"
   ]
  },
  {
   "cell_type": "code",
   "execution_count": 22,
   "metadata": {},
   "outputs": [
    {
     "name": "stdout",
     "output_type": "stream",
     "text": [
      "10                 1072\n",
      "NaN                  91\n",
      "Version Unknown      66\n",
      "7                    45\n",
      "X                    21\n",
      "10 S                  8\n",
      "Name: os_version, dtype: int64\n"
     ]
    }
   ],
   "source": [
    "print(laptops[\"os_version\"].value_counts(dropna=False))"
   ]
  },
  {
   "cell_type": "code",
   "execution_count": null,
   "metadata": {},
   "outputs": [],
   "source": []
  }
 ],
 "metadata": {
  "kernelspec": {
   "display_name": "Python 3",
   "language": "python",
   "name": "python3"
  },
  "language_info": {
   "codemirror_mode": {
    "name": "ipython",
    "version": 3
   },
   "file_extension": ".py",
   "mimetype": "text/x-python",
   "name": "python",
   "nbconvert_exporter": "python",
   "pygments_lexer": "ipython3",
   "version": "3.7.1"
  }
 },
 "nbformat": 4,
 "nbformat_minor": 2
}
